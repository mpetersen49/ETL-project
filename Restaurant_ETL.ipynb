{
 "cells": [
  {
   "cell_type": "code",
   "execution_count": null,
   "metadata": {},
   "outputs": [],
   "source": [
    "import pandas as pd\n",
    "from sqlalchemy import create_engine\n",
    "import numpy as np\n",
    "from config import username, password"
   ]
  },
  {
   "cell_type": "markdown",
   "metadata": {},
   "source": [
    "## Extract CSV Files"
   ]
  },
  {
   "cell_type": "code",
   "execution_count": null,
   "metadata": {},
   "outputs": [],
   "source": [
    "mcd_file = \"Resources/mcd_menu.csv\"\n",
    "bk_mcd_file = \"Resources/bk_mcd_menu.csv\"\n",
    "starbucks_food_file = \"Resources/starbucks_food.csv\"\n",
    "starbucks_drink_file = \"Resources/starbucks_drink_menu.csv\"\n",
    "subway_file = \"Resources/subway_menu.csv\""
   ]
  },
  {
   "cell_type": "code",
   "execution_count": null,
   "metadata": {},
   "outputs": [],
   "source": [
    "mcd_df = pd.read_csv(mcd_file)\n",
    "bk_mcd_df = pd.read_csv(bk_mcd_file, delimiter=';')\n",
    "starbucks_food_df = pd.read_csv(starbucks_food_file)\n",
    "starbucks_drink_df = pd.read_csv(starbucks_drink_file)\n",
    "subway_df = pd.read_csv(subway_file)"
   ]
  },
  {
   "cell_type": "markdown",
   "metadata": {},
   "source": [
    "## Transform Data"
   ]
  },
  {
   "cell_type": "markdown",
   "metadata": {},
   "source": [
    "### Transform Subway Data"
   ]
  },
  {
   "cell_type": "code",
   "execution_count": null,
   "metadata": {},
   "outputs": [],
   "source": [
    "subway_df.head()"
   ]
  },
  {
   "cell_type": "code",
   "execution_count": null,
   "metadata": {},
   "outputs": [],
   "source": [
    "# extract columns desired for database\n",
    "subway_transformed = subway_df[[\"Category\", \"Unnamed: 0\", \"Saturated Fat (g)\", \"Calories\"]].copy()\n",
    "\n",
    "# rename columns\n",
    "subway_transformed.rename(columns={\"Category\": \"category\", \n",
    "                                   \"Unnamed: 0\": \"item\",\n",
    "                                   \"Saturated Fat (g)\": \"saturated_fat\",\n",
    "                                   \"Calories\": \"calories\"}, inplace=True)\n",
    "\n",
    "# add \"food_class\" column\n",
    "# recognizing that category == Extra are desserts in the dataset\n",
    "conditions = [(subway_transformed[\"category\"] == \"Extra\")]\n",
    "\n",
    "values = [1]\n",
    "\n",
    "subway_transformed[\"food_class\"] = np.select(conditions, values)\n",
    "\n",
    "subway_transformed[\"food_class\"].replace(0,3, inplace=True)\n",
    "\n",
    "# create \"id\" column\n",
    "subway_transformed[\"id\"] = subway_transformed.index\n",
    "\n",
    "subway_transformed.set_index(\"id\", inplace=True)\n",
    "\n",
    "# display dataframe\n",
    "subway_transformed.head()"
   ]
  },
  {
   "cell_type": "markdown",
   "metadata": {},
   "source": [
    "### Transform Burger King and McDonalds Data"
   ]
  },
  {
   "cell_type": "code",
   "execution_count": null,
   "metadata": {},
   "outputs": [],
   "source": [
    "mcd_df.head()"
   ]
  },
  {
   "cell_type": "code",
   "execution_count": null,
   "metadata": {},
   "outputs": [],
   "source": [
    "# Create a filtered dataframe from specific columns\n",
    "mcd_cols = [\"Category\", \"Item\", \"Saturated Fat\", \"Calories\"]\n",
    "mcd_transformed= mcd_df[mcd_cols].copy()\n",
    "\n",
    "# Rename the column headers for consistency\n",
    "mcd_transformed = mcd_transformed.rename(columns={\"Category\": \"category\",\n",
    "                                                    \"Item\": \"item\",\n",
    "                                                    \"Saturated Fat\": \"saturated_fat\",\n",
    "                                                    \"Calories\": \"calories\"})\n",
    "\n",
    "mcd_transformed.head()"
   ]
  },
  {
   "cell_type": "code",
   "execution_count": null,
   "metadata": {},
   "outputs": [],
   "source": [
    "# Find full list of categories\n",
    "mcd_transformed['category'].unique()"
   ]
  },
  {
   "cell_type": "code",
   "execution_count": null,
   "metadata": {},
   "outputs": [],
   "source": [
    "# manually assign each category to a food_class \n",
    "conditions = [(mcd_transformed['category'] == 'Breakfast') | (mcd_transformed['category'] == 'Beef & Pork') \\\n",
    "                  | (mcd_transformed['category'] == 'Chicken & Fish') | (mcd_transformed['category'] == 'Salads') \\\n",
    "                  | (mcd_transformed['category'] == 'Snacks & Sides'),\n",
    "              (mcd_transformed['category'] == 'Beverages') | (mcd_transformed['category'] == 'Smoothies & Shakes') \\\n",
    "                  | (mcd_transformed['category'] == 'Coffee & Tea'),\n",
    "              (mcd_transformed['category'] == 'Desserts'), \n",
    "             ]\n",
    "\n",
    "values = [3, 2, 1]\n",
    "\n",
    "mcd_transformed['food_class'] = np.select(conditions, values)\n",
    "\n",
    "mcd_transformed.head()"
   ]
  },
  {
   "cell_type": "code",
   "execution_count": null,
   "metadata": {},
   "outputs": [],
   "source": [
    "bk_mcd_df.head()"
   ]
  },
  {
   "cell_type": "code",
   "execution_count": null,
   "metadata": {},
   "outputs": [],
   "source": [
    "# Create a filtered dataframe from specific columns\n",
    "bk_mcd_cols = [\"Chain\", \"Type\", \"Item\", \"Saturated Fat (g)\", \"Calories\"]\n",
    "bk_mcd_transformed= bk_mcd_df[bk_mcd_cols].copy()\n",
    "\n",
    "# Rename the column headers\n",
    "bk_mcd_transformed = bk_mcd_transformed.rename(columns={\"Type\": \"category\",\n",
    "                                                    \"Item\": \"item\",\n",
    "                                                    \"Saturated Fat (g)\": \"saturated_fat\",\n",
    "                                                    \"Calories\": \"calories\"})\n",
    "\n",
    "bk_mcd_transformed.head()"
   ]
  },
  {
   "cell_type": "code",
   "execution_count": null,
   "metadata": {},
   "outputs": [],
   "source": [
    "# Find full list of categories\n",
    "bk_mcd_transformed['category'].unique()"
   ]
  },
  {
   "cell_type": "code",
   "execution_count": null,
   "metadata": {},
   "outputs": [],
   "source": [
    "# manually assign each category to a food_class \n",
    "conditions = [(bk_mcd_transformed['category'] == 'Whopper Sandwiches') | (bk_mcd_transformed['category'] == 'Flame Broiled Burgers') \\\n",
    "                  | (bk_mcd_transformed['category'] == 'Chicken & More') | (bk_mcd_transformed['category'] == 'Salads & Sides') \\\n",
    "                  | (bk_mcd_transformed['category'] == 'King Jr Meals - Entrees') | (bk_mcd_transformed['category'] == 'King Jr Meals - Sides') \\\n",
    "                  | (bk_mcd_transformed['category'] == 'Breakfast') | (bk_mcd_transformed['category'] == 'Additional Options') \\\n",
    "                  | (bk_mcd_transformed['category'] == 'Sandwiches') | (bk_mcd_transformed['category'] == 'French Fries') \\\n",
    "                  | (bk_mcd_transformed['category'] == 'Chicken & Sauce') | (bk_mcd_transformed['category'] == 'Salads') \\\n",
    "                  | (bk_mcd_transformed['category'] == 'Salad Dressings'),\n",
    "              (bk_mcd_transformed['category'] == 'Beverages') | (bk_mcd_transformed['category'] == 'McCafe Coffees') \\\n",
    "                  | (bk_mcd_transformed['category'] == 'King Jr Meals - Beverages') | (bk_mcd_transformed['category'] == 'Shakes/Smoothies') \\\n",
    "                  | (bk_mcd_transformed['category'] == 'Soft Drinks') | (bk_mcd_transformed['category'] == 'Hot Coffees') \\\n",
    "                  | (bk_mcd_transformed['category'] == 'Iced Coffees') | (bk_mcd_transformed['category'] == 'Frappes') \\\n",
    "                  | (bk_mcd_transformed['category'] == 'McCafe Coffees - Nonfat Milk') | (bk_mcd_transformed['category'] == 'McCafe Coffees - Whole Milk') \\\n",
    "                  | (bk_mcd_transformed['category'] == 'McCafe Frappes') | (bk_mcd_transformed['category'] == 'McCafe Smoothies'),\n",
    "              (bk_mcd_transformed['category'] == 'Desserts') | (bk_mcd_transformed['category'] =='King Jr Meals - Desserts') \\\n",
    "                  | (bk_mcd_transformed['category'] == 'Desserts/Shakes') | (bk_mcd_transformed['category'] =='King Jr Meals - Desserts'), \n",
    "             ]\n",
    "\n",
    "values = [3, 2, 1]\n",
    "\n",
    "bk_mcd_transformed['food_class'] = np.select(conditions, values)\n",
    "\n",
    "bk_mcd_transformed.head()"
   ]
  },
  {
   "cell_type": "code",
   "execution_count": null,
   "metadata": {},
   "outputs": [],
   "source": [
    "# remove bad data (namely the  ' -   ' values found in the original csv)\n",
    "bk_mcd_transformed = bk_mcd_transformed[bk_mcd_transformed['saturated_fat'] != ' -   ']"
   ]
  },
  {
   "cell_type": "code",
   "execution_count": null,
   "metadata": {},
   "outputs": [],
   "source": [
    "# convert , decimal place to . and set to float64 datatype\n",
    "bk_mcd_transformed['saturated_fat'] = bk_mcd_transformed['saturated_fat'].str.replace(',', '.')\n",
    "bk_mcd_transformed['saturated_fat'] = bk_mcd_transformed['saturated_fat'].astype('float64')"
   ]
  },
  {
   "cell_type": "code",
   "execution_count": null,
   "metadata": {},
   "outputs": [],
   "source": [
    "# Split bk and mcd into seperate dataframes\n",
    "bk_transformed =  bk_mcd_transformed.loc[bk_mcd_transformed['Chain'] == 'Burger King']\n",
    "mcd_2_join_transformed =  bk_mcd_transformed.loc[bk_mcd_transformed['Chain'] == 'Mc Donalds']\n",
    "mcd_2_join_transformed.head()"
   ]
  },
  {
   "cell_type": "code",
   "execution_count": null,
   "metadata": {},
   "outputs": [],
   "source": [
    "mcd_transformed_combined = mcd_transformed.merge(mcd_2_join_transformed, how = \"right\")\n",
    "mcd_transformed_combined"
   ]
  },
  {
   "cell_type": "code",
   "execution_count": null,
   "metadata": {},
   "outputs": [],
   "source": [
    "# Remove the 'Chain' column from the dataframes\n",
    "mcd_transformed_combined = mcd_transformed_combined.drop(columns=['Chain'])\n",
    "bk_transformed = bk_transformed.drop(columns=['Chain'])"
   ]
  },
  {
   "cell_type": "code",
   "execution_count": null,
   "metadata": {},
   "outputs": [],
   "source": [
    "mcd_transformed_combined[\"id\"] = mcd_transformed_combined.index\n",
    "mcd_transformed_combined.set_index(\"id\", inplace=True)\n",
    "mcd_transformed_combined.head()"
   ]
  },
  {
   "cell_type": "code",
   "execution_count": null,
   "metadata": {},
   "outputs": [],
   "source": [
    "bk_transformed[\"id\"] = bk_transformed.index\n",
    "bk_transformed.set_index(\"id\", inplace=True)\n",
    "bk_transformed.head()"
   ]
  },
  {
   "cell_type": "markdown",
   "metadata": {},
   "source": [
    "### Transform Starbucks Data"
   ]
  },
  {
   "cell_type": "code",
   "execution_count": null,
   "metadata": {},
   "outputs": [],
   "source": [
    "starbucks_food_df.head()"
   ]
  },
  {
   "cell_type": "code",
   "execution_count": null,
   "metadata": {},
   "outputs": [],
   "source": [
    "#starbucks_food_df.dtypes"
   ]
  },
  {
   "cell_type": "code",
   "execution_count": null,
   "metadata": {},
   "outputs": [],
   "source": [
    "# Create a filtered dataframe from specific columns\n",
    "starbs_food_cols = [\"Category\", \"Name\", \"Calories\", \"Saturated Fat(g)\"]\n",
    "starbs_food_transformed= starbucks_food_df[starbs_food_cols].copy()\n",
    "\n",
    "# Rename the column headers\n",
    "starbs_food_transformed = starbs_food_transformed.rename(columns={\"Category\": \"category\",\n",
    "                                                                \"Name\": \"item\",\n",
    "                                                                \"Saturated Fat(g)\": \"saturated_fat\",\n",
    "                                                                \"Calories\": \"calories\"\n",
    "                                                                })\n",
    "\n",
    "# Show transformed db\n",
    "starbs_food_transformed.head()"
   ]
  },
  {
   "cell_type": "code",
   "execution_count": null,
   "metadata": {},
   "outputs": [],
   "source": [
    "# Add new column for class designator\n",
    "# Set column value equal to \"food_class number 3\" designating food for all\n",
    "starbs_food_transformed[\"food_class\"] = 3\n",
    "\n",
    "starbs_food_transformed.head()"
   ]
  },
  {
   "cell_type": "code",
   "execution_count": null,
   "metadata": {},
   "outputs": [],
   "source": [
    "#starbs_food_transformed[\"item\"].unique()"
   ]
  },
  {
   "cell_type": "code",
   "execution_count": null,
   "metadata": {},
   "outputs": [],
   "source": [
    "# Update individual item to dessert class if needed\n",
    "# Assign each category to a food_class manually\n",
    "conditions = [(starbs_food_transformed[\"item\"] == \"Birthday Cake Pop\") |\n",
    "              (starbs_food_transformed[\"item\"] == \"Blueberry Oat Cake\") |\n",
    "              (starbs_food_transformed[\"item\"] == \"Chocolate Cake Pop\") |\n",
    "              (starbs_food_transformed[\"item\"] == \"Chocolate Chip Cookie\") |\n",
    "              (starbs_food_transformed[\"item\"] == \"Chocolate Chip Cookie Dough Cake Pop\") |\n",
    "              (starbs_food_transformed[\"item\"] == \"Classic Coffee Cake\") |\n",
    "              (starbs_food_transformed[\"item\"] == \"Confetti Sugar Cookie\") |\n",
    "              (starbs_food_transformed[\"item\"] == \"Double Chocolate Chunk Brownie\") |\n",
    "              (starbs_food_transformed[\"item\"] == \"Frosted Doughnut Cake Pop\")|\n",
    "              (starbs_food_transformed[\"item\"] == \"Gluten-Free Marshmallow Dream Bar\") |\n",
    "              (starbs_food_transformed[\"item\"] == \"Iced Lemon Loaf Cake\") |\n",
    "              (starbs_food_transformed[\"item\"] == \"Old-Fashioned Glazed Doughnut\") |\n",
    "              (starbs_food_transformed[\"item\"] == \"Strawberry Cake Pop\")\n",
    "             ]\n",
    "\n",
    "# This is the value for a dessert\n",
    "values = [1]\n",
    "\n",
    "starbs_food_transformed['food_class'] = np.select(conditions, values)\n",
    "        \n",
    "# Show transformed db    \n",
    "starbs_food_transformed.head()"
   ]
  },
  {
   "cell_type": "code",
   "execution_count": null,
   "metadata": {},
   "outputs": [],
   "source": [
    "# Change all 0 values back to 3 for food_class\n",
    "starbs_food_transformed[\"food_class\"].replace(0, 3, inplace = True)\n",
    "starbs_food_transformed.head()"
   ]
  },
  {
   "cell_type": "code",
   "execution_count": null,
   "metadata": {},
   "outputs": [],
   "source": [
    "# Final look at food db info\n",
    "starbs_food_transformed.count()"
   ]
  },
  {
   "cell_type": "code",
   "execution_count": null,
   "metadata": {},
   "outputs": [],
   "source": [
    "starbucks_drink_df.head()"
   ]
  },
  {
   "cell_type": "code",
   "execution_count": null,
   "metadata": {},
   "outputs": [],
   "source": [
    "# Create a filtered dataframe from specific columns\n",
    "starbs_drink_cols = [\"Category\", \"Name\", \"Calories\", \"Saturated fat(g)\"]\n",
    "starbs_drink_transformed= starbucks_drink_df[starbs_drink_cols].copy()\n",
    "\n",
    "# Rename the column headers\n",
    "starbs_drink_transformed = starbs_drink_transformed.rename(columns={\"Category\": \"category\",\n",
    "                                                                    \"Name\": \"item\",\n",
    "                                                                    \"Saturated fat(g)\": \"saturated_fat\",\n",
    "                                                                    \"Calories\": \"calories\"\n",
    "                                                                    })\n",
    "\n",
    "# Show transformed db\n",
    "starbs_drink_transformed.head()"
   ]
  },
  {
   "cell_type": "code",
   "execution_count": null,
   "metadata": {},
   "outputs": [],
   "source": [
    "# Add new column for class designator\n",
    "# Set column value equal to \"food_class number 2\" designating drink for all\n",
    "starbs_drink_transformed[\"food_class\"] = 2\n",
    "\n",
    "starbs_drink_transformed.head()"
   ]
  },
  {
   "cell_type": "code",
   "execution_count": null,
   "metadata": {},
   "outputs": [],
   "source": [
    "# See all of the different category listings\n",
    "#starbs_drink_transformed[\"category\"].unique()"
   ]
  },
  {
   "cell_type": "code",
   "execution_count": null,
   "metadata": {},
   "outputs": [],
   "source": [
    "starbs_drink_transformed.count()"
   ]
  },
  {
   "cell_type": "code",
   "execution_count": null,
   "metadata": {},
   "outputs": [],
   "source": [
    "# Join the dataframes to get a starbucks food and drink df\n",
    "starbs_menu_df = starbs_food_transformed.merge(starbs_drink_transformed, how = \"outer\")\n",
    "starbs_menu_df"
   ]
  },
  {
   "cell_type": "code",
   "execution_count": null,
   "metadata": {},
   "outputs": [],
   "source": [
    "# Adjust so saturated_fat column is before calories\n",
    "mid = starbs_menu_df[\"saturated_fat\"]\n",
    "starbs_menu_df.drop(labels=[\"saturated_fat\"], axis = 1, inplace = True)\n",
    "starbs_menu_df.insert(2, \"saturated_fat\", mid)\n",
    "starbs_menu_df[\"id\"] = starbs_menu_df.index\n",
    "starbs_menu_df.set_index(\"id\", inplace=True)\n",
    "starbs_menu_df"
   ]
  },
  {
   "cell_type": "markdown",
   "metadata": {},
   "source": [
    "## Create database connection"
   ]
  },
  {
   "cell_type": "code",
   "execution_count": null,
   "metadata": {},
   "outputs": [],
   "source": [
    "# Update Username and Password for pgAdmin\n",
    "# Also update Database Name to match what you created at the start\n",
    "connection_string = f\"{username}:{password}@localhost:5432/FastFood_db\"\n",
    "\n",
    "# Create the engine\n",
    "engine = create_engine(f'postgresql://{connection_string}')"
   ]
  },
  {
   "cell_type": "code",
   "execution_count": null,
   "metadata": {},
   "outputs": [],
   "source": [
    "# Confirm tables\n",
    "# You should see [\"McDonalds\", \"Burger_King\", \"Starbucks\", \"Subway\", \"Food_Classes\"]\n",
    "engine.table_names()"
   ]
  },
  {
   "cell_type": "markdown",
   "metadata": {},
   "source": [
    "## Load DataFrames into database"
   ]
  },
  {
   "cell_type": "code",
   "execution_count": null,
   "metadata": {},
   "outputs": [],
   "source": [
    "# Use \"to_sql\" function to load all transformed dfs' data into postgres\n",
    "\n",
    "# Starbucks\n",
    "starbs_menu_df.to_sql(name='Starbucks', con=engine, if_exists='append', index=True)"
   ]
  },
  {
   "cell_type": "code",
   "execution_count": null,
   "metadata": {},
   "outputs": [],
   "source": [
    "# Subway\n",
    "subway_transformed.to_sql(name='Subway', con=engine, if_exists='append', index=True)"
   ]
  },
  {
   "cell_type": "code",
   "execution_count": null,
   "metadata": {},
   "outputs": [],
   "source": [
    "# McDonalds\n",
    "mcd_transformed_combined.to_sql(name='McDonalds', con=engine, if_exists='append', index=True)"
   ]
  },
  {
   "cell_type": "code",
   "execution_count": null,
   "metadata": {},
   "outputs": [],
   "source": [
    "# Burger King\n",
    "bk_transformed.to_sql(name='Burger_King', con=engine, if_exists='append', index=True)"
   ]
  },
  {
   "cell_type": "code",
   "execution_count": null,
   "metadata": {},
   "outputs": [],
   "source": []
  }
 ],
 "metadata": {
  "kernelspec": {
   "display_name": "Python 3",
   "language": "python",
   "name": "python3"
  },
  "language_info": {
   "codemirror_mode": {
    "name": "ipython",
    "version": 3
   },
   "file_extension": ".py",
   "mimetype": "text/x-python",
   "name": "python",
   "nbconvert_exporter": "python",
   "pygments_lexer": "ipython3",
   "version": "3.6.10"
  }
 },
 "nbformat": 4,
 "nbformat_minor": 4
}
