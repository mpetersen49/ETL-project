{
 "cells": [
  {
   "cell_type": "code",
   "execution_count": null,
   "metadata": {},
   "outputs": [],
   "source": [
    "import pandas as pd\n",
    "from sqlalchemy import create_engine\n",
    "import numpy as np"
   ]
  },
  {
   "cell_type": "markdown",
   "metadata": {},
   "source": [
    "## Extract CSV Files"
   ]
  },
  {
   "cell_type": "code",
   "execution_count": null,
   "metadata": {},
   "outputs": [],
   "source": [
    "mcd_file = \"Resources/mcd_menu.csv\"\n",
    "bk_mcd_file = \"Resources/bk_mcd_menu.csv\"\n",
    "starbucks_food_file = \"Resources/starbucks_food_menu.csv\"\n",
    "starbucks_drink_file = \"Resources/starbucks_drink_menu.csv\"\n",
    "subway_file = \"Resources/subway_menu.csv\""
   ]
  },
  {
   "cell_type": "code",
   "execution_count": null,
   "metadata": {},
   "outputs": [],
   "source": [
    "mcd_df = pd.read_csv(mcd_file)\n",
    "bk_mcd_df = pd.read_csv(bk_mcd_file, delimiter=';')\n",
    "starbucks_food_df = pd.read_csv(starbucks_food_file)\n",
    "starbucks_drink_df = pd.read_csv(starbucks_drink_file)\n",
    "subway_df = pd.read_csv(subway_file)"
   ]
  },
  {
   "cell_type": "code",
   "execution_count": null,
   "metadata": {},
   "outputs": [],
   "source": [
    "# mikes code here"
   ]
  },
  {
   "cell_type": "code",
   "execution_count": null,
   "metadata": {},
   "outputs": [],
   "source": [
    "subway_df.head()"
   ]
  },
  {
   "cell_type": "code",
   "execution_count": null,
   "metadata": {},
   "outputs": [],
   "source": [
    "# nicks code here"
   ]
  },
  {
   "cell_type": "code",
   "execution_count": null,
   "metadata": {},
   "outputs": [],
   "source": [
    "mcd_df.head()"
   ]
  },
  {
   "cell_type": "code",
   "execution_count": null,
   "metadata": {},
   "outputs": [],
   "source": [
    "# Create a filtered dataframe from specific columns\n",
    "mcd_cols = [\"Category\", \"Item\", \"Saturated Fat\", \"Calories\"]\n",
    "mcd_transformed= mcd_df[mcd_cols].copy()\n",
    "\n",
    "# Rename the column headers for consistency\n",
    "mcd_transformed = mcd_transformed.rename(columns={\"Category\": \"category\",\n",
    "                                                    \"Item\": \"item\",\n",
    "                                                    \"Saturated Fat\": \"saturated_fat\",\n",
    "                                                    \"Calories\": \"calories\"})\n",
    "\n",
    "mcd_transformed.head()"
   ]
  },
  {
   "cell_type": "code",
   "execution_count": null,
   "metadata": {},
   "outputs": [],
   "source": [
    "# Find full list of categories\n",
    "mcd_transformed['category'].unique()"
   ]
  },
  {
   "cell_type": "code",
   "execution_count": null,
   "metadata": {},
   "outputs": [],
   "source": [
    "# manually assign each category to a food_class \n",
    "conditions = [(mcd_transformed['category'] == 'Breakfast') | (mcd_transformed['category'] == 'Beef & Pork') \\\n",
    "                  | (mcd_transformed['category'] == 'Chicken & Fish') | (mcd_transformed['category'] == 'Salads') \\\n",
    "                  | (mcd_transformed['category'] == 'Snacks & Sides'),\n",
    "              (mcd_transformed['category'] == 'Beverages') | (mcd_transformed['category'] == 'Smoothies & Shakes') \\\n",
    "                  | (mcd_transformed['category'] == 'Coffee & Tea'),\n",
    "              (mcd_transformed['category'] == 'Desserts'), \n",
    "             ]\n",
    "\n",
    "values = [3, 2, 1]\n",
    "\n",
    "mcd_transformed['food_class'] = np.select(conditions, values)\n",
    "\n",
    "mcd_transformed.head()"
   ]
  },
  {
   "cell_type": "code",
   "execution_count": null,
   "metadata": {},
   "outputs": [],
   "source": [
    "bk_mcd_df.head()"
   ]
  },
  {
   "cell_type": "code",
   "execution_count": null,
   "metadata": {},
   "outputs": [],
   "source": [
    "# Create a filtered dataframe from specific columns\n",
    "bk_mcd_cols = [\"Chain\", \"Type\", \"Item\", \"Saturated Fat (g)\", \"Calories\"]\n",
    "bk_mcd_transformed= bk_mcd_df[bk_mcd_cols].copy()\n",
    "\n",
    "# Rename the column headers\n",
    "bk_mcd_transformed = bk_mcd_transformed.rename(columns={\"Type\": \"category\",\n",
    "                                                    \"Item\": \"item\",\n",
    "                                                    \"Saturated Fat (g)\": \"saturated_fat\",\n",
    "                                                    \"Calories\": \"calories\"})\n",
    "\n",
    "bk_mcd_transformed.head()"
   ]
  },
  {
   "cell_type": "code",
   "execution_count": null,
   "metadata": {},
   "outputs": [],
   "source": [
    "# Find full list of categories\n",
    "bk_mcd_transformed['category'].unique()"
   ]
  },
  {
   "cell_type": "code",
   "execution_count": null,
   "metadata": {},
   "outputs": [],
   "source": [
    "# manually assign each category to a food_class \n",
    "conditions = [(bk_mcd_transformed['category'] == 'Whopper Sandwiches') | (bk_mcd_transformed['category'] == 'Flame Broiled Burgers') \\\n",
    "                  | (bk_mcd_transformed['category'] == 'Chicken & More') | (bk_mcd_transformed['category'] == 'Salads & Sides') \\\n",
    "                  | (bk_mcd_transformed['category'] == 'King Jr Meals - Entrees') | (bk_mcd_transformed['category'] == 'King Jr Meals - Sides') \\\n",
    "                  | (bk_mcd_transformed['category'] == 'Breakfast') | (bk_mcd_transformed['category'] == 'Additional Options') \\\n",
    "                  | (bk_mcd_transformed['category'] == 'Sandwiches') | (bk_mcd_transformed['category'] == 'French Fries') \\\n",
    "                  | (bk_mcd_transformed['category'] == 'Chicken & Sauce') | (bk_mcd_transformed['category'] == 'Salads') \\\n",
    "                  | (bk_mcd_transformed['category'] == 'Salad Dressings'),\n",
    "              (bk_mcd_transformed['category'] == 'Beverages') | (bk_mcd_transformed['category'] == 'McCafe Coffees') \\\n",
    "                  | (bk_mcd_transformed['category'] == 'King Jr Meals - Beverages') | (bk_mcd_transformed['category'] == 'Shakes/Smoothies') \\\n",
    "                  | (bk_mcd_transformed['category'] == 'Soft Drinks') | (bk_mcd_transformed['category'] == 'Hot Coffees') \\\n",
    "                  | (bk_mcd_transformed['category'] == 'Iced Coffees') | (bk_mcd_transformed['category'] == 'Frappes') \\\n",
    "                  | (bk_mcd_transformed['category'] == 'McCafe Coffees - Nonfat Milk') | (bk_mcd_transformed['category'] == 'McCafe Coffees - Whole Milk') \\\n",
    "                  | (bk_mcd_transformed['category'] == 'McCafe Frappes') | (bk_mcd_transformed['category'] == 'McCafe Smoothies'),\n",
    "              (bk_mcd_transformed['category'] == 'Desserts') | (bk_mcd_transformed['category'] =='King Jr Meals - Desserts') \\\n",
    "                  | (bk_mcd_transformed['category'] == 'Desserts/Shakes') | (bk_mcd_transformed['category'] =='King Jr Meals - Desserts'), \n",
    "             ]\n",
    "\n",
    "values = [3, 2, 1]\n",
    "\n",
    "bk_mcd_transformed['food_class'] = np.select(conditions, values)\n",
    "\n",
    "bk_mcd_transformed.head()"
   ]
  },
  {
   "cell_type": "code",
   "execution_count": null,
   "metadata": {},
   "outputs": [],
   "source": [
    "# remove bad data (namely the  ' -   ' values found in the original csv)\n",
    "bk_mcd_transformed = bk_mcd_transformed[bk_mcd_transformed['saturated_fat'] != ' -   ']"
   ]
  },
  {
   "cell_type": "code",
   "execution_count": null,
   "metadata": {},
   "outputs": [],
   "source": [
    "# convert , decimal place to . and set to float64 datatype\n",
    "bk_mcd_transformed['saturated_fat'] = bk_mcd_transformed['saturated_fat'].str.replace(',', '.')\n",
    "bk_mcd_transformed['saturated_fat'] = bk_mcd_transformed['saturated_fat'].astype('float64')"
   ]
  },
  {
   "cell_type": "code",
   "execution_count": null,
   "metadata": {},
   "outputs": [],
   "source": [
    "# Split bk and mcd into seperate dataframes\n",
    "bk_transformed =  bk_mcd_transformed.loc[bk_mcd_transformed['Chain'] == 'Burger King']\n",
    "mcd_2_join_transformed =  bk_mcd_transformed.loc[bk_mcd_transformed['Chain'] == 'Mc Donalds']\n",
    "mcd_2_join_transformed.head()"
   ]
  },
  {
   "cell_type": "code",
   "execution_count": null,
   "metadata": {},
   "outputs": [],
   "source": [
    "mcd_transformed_combined = mcd_transformed.merge(mcd_2_join_transformed, how = \"right\")\n",
    "mcd_transformed_combined"
   ]
  },
  {
   "cell_type": "code",
   "execution_count": null,
   "metadata": {},
   "outputs": [],
   "source": [
    "# Remove the 'Chain' column from the dataframes\n",
    "mcd_transformed_combined = mcd_transformed_combined.drop(columns=['Chain'])\n",
    "bk_transformed = bk_transformed.drop(columns=['Chain'])"
   ]
  },
  {
   "cell_type": "code",
   "execution_count": null,
   "metadata": {},
   "outputs": [],
   "source": [
    "# noahs code here"
   ]
  },
  {
   "cell_type": "code",
   "execution_count": null,
   "metadata": {},
   "outputs": [],
   "source": [
    "starbucks_food_df.head()"
   ]
  },
  {
   "cell_type": "code",
   "execution_count": null,
   "metadata": {},
   "outputs": [],
   "source": [
    "starbucks_drink_df.head()"
   ]
  },
  {
   "cell_type": "code",
   "execution_count": null,
   "metadata": {},
   "outputs": [],
   "source": []
  }
 ],
 "metadata": {
  "kernelspec": {
   "display_name": "Python 3",
   "language": "python",
   "name": "python3"
  },
  "language_info": {
   "codemirror_mode": {
    "name": "ipython",
    "version": 3
   },
   "file_extension": ".py",
   "mimetype": "text/x-python",
   "name": "python",
   "nbconvert_exporter": "python",
   "pygments_lexer": "ipython3",
   "version": "3.6.10"
  }
 },
 "nbformat": 4,
 "nbformat_minor": 4
}
